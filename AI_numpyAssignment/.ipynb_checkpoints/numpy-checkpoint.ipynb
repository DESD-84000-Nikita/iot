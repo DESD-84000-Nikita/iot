{
 "cells": [
  {
   "cell_type": "code",
   "execution_count": 6,
   "id": "39a83f22-013a-4999-84dd-897f6b699c35",
   "metadata": {},
   "outputs": [],
   "source": [
    "import numpy as np"
   ]
  },
  {
   "cell_type": "code",
   "execution_count": 7,
   "id": "0ac20a65-2930-4f20-9463-1465a01f52c8",
   "metadata": {},
   "outputs": [],
   "source": [
    "def function1():\n",
    "    n_arr=np.array([1,7,13,105])\n",
    "    print(n_arr)\n",
    "    print(f\"NBYTES={n_arr.nbytes}\")"
   ]
  },
  {
   "cell_type": "code",
   "execution_count": 8,
   "id": "43142d9a-0297-463d-a68d-3bd79a2d2def",
   "metadata": {},
   "outputs": [
    {
     "name": "stdout",
     "output_type": "stream",
     "text": [
      "[  1   7  13 105]\n",
      "NBYTES=32\n"
     ]
    }
   ],
   "source": [
    "function1()"
   ]
  },
  {
   "cell_type": "code",
   "execution_count": 9,
   "id": "f7f6a1f5-d743-4cfc-97e7-e1116537ab34",
   "metadata": {},
   "outputs": [],
   "source": [
    "# 2.Write a NumPy program to create an element-wise comparison (greater,    greater_equal, less and less_equal) of two given arrays.\n"
   ]
  },
  {
   "cell_type": "code",
   "execution_count": 10,
   "id": "5f77912f-7c41-488b-a496-8d6f2701ab90",
   "metadata": {},
   "outputs": [],
   "source": [
    "x = np.array([3, 5])\n",
    "y = np.array([2, 5])"
   ]
  },
  {
   "cell_type": "code",
   "execution_count": 11,
   "id": "98c85328-02cf-42e2-9536-a9ae262c33d7",
   "metadata": {},
   "outputs": [
    {
     "name": "stdout",
     "output_type": "stream",
     "text": [
      "Comparison - greater\n",
      "[ True False]\n",
      "Comparison - greater_equal\n",
      "[ True  True]\n",
      "Comparison - less\n",
      "[False False]\n",
      "Comparison - less_equal\n",
      "[False  True]\n"
     ]
    }
   ],
   "source": [
    "print(\"Comparison - greater\")\n",
    "print(np.greater(x,y))\n",
    "\n",
    "print(\"Comparison - greater_equal\")\n",
    "print(np.greater_equal(x, y))\n",
    "\n",
    "print(\"Comparison - less\")\n",
    "print(np.less(x, y))\n",
    "\n",
    "print(\"Comparison - less_equal\")\n",
    "print(np.less_equal(x, y)) "
   ]
  },
  {
   "cell_type": "code",
   "execution_count": 12,
   "id": "6f2bb725-e5d6-4485-b57f-4e37f0dd0d8d",
   "metadata": {},
   "outputs": [],
   "source": [
    "#3. Write a NumPy program to create an array of 10 zeros, 10 ones, 10    fives, 10 tens, 10 twentys and 10 fiftys."
   ]
  },
  {
   "cell_type": "code",
   "execution_count": 13,
   "id": "1f802aef-3488-462d-a99c-ca8f917d0c3f",
   "metadata": {},
   "outputs": [
    {
     "name": "stdout",
     "output_type": "stream",
     "text": [
      "[0. 0. 0. 0. 0. 0. 0. 0. 0. 0.]\n"
     ]
    }
   ],
   "source": [
    "arr1=np.zeros(10)\n",
    "print(arr1)"
   ]
  },
  {
   "cell_type": "code",
   "execution_count": 14,
   "id": "c20c31b3-adfd-4580-b3a9-a7ddc6b4a16b",
   "metadata": {},
   "outputs": [
    {
     "name": "stdout",
     "output_type": "stream",
     "text": [
      "[1. 1. 1. 1. 1. 1. 1. 1. 1. 1.]\n"
     ]
    }
   ],
   "source": [
    "arr2=np.ones(10)\n",
    "print(arr2)"
   ]
  },
  {
   "cell_type": "code",
   "execution_count": 15,
   "id": "c5d6c124-f1ac-4863-9d20-52ec22aa8a0b",
   "metadata": {},
   "outputs": [
    {
     "name": "stdout",
     "output_type": "stream",
     "text": [
      "[5. 5. 5. 5. 5. 5. 5. 5. 5. 5.]\n"
     ]
    }
   ],
   "source": [
    "arr3=np.ones(10)*5\n",
    "print(arr3)"
   ]
  },
  {
   "cell_type": "code",
   "execution_count": 16,
   "id": "284520cd-92f2-4d30-9fcf-78c38e375530",
   "metadata": {},
   "outputs": [
    {
     "name": "stdout",
     "output_type": "stream",
     "text": [
      "[10. 10. 10. 10. 10. 10. 10. 10. 10. 10.]\n"
     ]
    }
   ],
   "source": [
    "arr4=np.ones(10)*10\n",
    "print(arr4)"
   ]
  },
  {
   "cell_type": "code",
   "execution_count": 17,
   "id": "8dbcbed1-06ee-47bb-84f5-affaf12fecaf",
   "metadata": {},
   "outputs": [
    {
     "name": "stdout",
     "output_type": "stream",
     "text": [
      "[20. 20. 20. 20. 20. 20. 20. 20. 20. 20.]\n"
     ]
    }
   ],
   "source": [
    "arr5=np.ones(10)*20\n",
    "print(arr5)"
   ]
  },
  {
   "cell_type": "code",
   "execution_count": 18,
   "id": "f4073d05-e7f4-4439-80e7-b8c0d4dad11c",
   "metadata": {},
   "outputs": [
    {
     "name": "stdout",
     "output_type": "stream",
     "text": [
      "[50. 50. 50. 50. 50. 50. 50. 50. 50. 50.]\n"
     ]
    }
   ],
   "source": [
    "arr6=np.ones(10)*50\n",
    "print(arr6)"
   ]
  },
  {
   "cell_type": "code",
   "execution_count": 19,
   "id": "5cfca3fe-57bf-4ac3-af30-edac101c2717",
   "metadata": {},
   "outputs": [],
   "source": [
    "#4.Write a NumPy program to create an array of integers from 30 to 70.\n"
   ]
  },
  {
   "cell_type": "code",
   "execution_count": 20,
   "id": "1f2e22a8-763e-498f-a0f4-5730f2d87c63",
   "metadata": {},
   "outputs": [
    {
     "name": "stdout",
     "output_type": "stream",
     "text": [
      "[30 31 32 33 34 35 36 37 38 39 40 41 42 43 44 45 46 47 48 49 50 51 52 53\n",
      " 54 55 56 57 58 59 60 61 62 63 64 65 66 67 68 69 70]\n"
     ]
    }
   ],
   "source": [
    "arr7=np.arange(30,71)\n",
    "print(arr7)"
   ]
  },
  {
   "cell_type": "code",
   "execution_count": 21,
   "id": "9c277db5-cbac-4106-aab8-f5934df7d75d",
   "metadata": {},
   "outputs": [],
   "source": [
    "#5. Write a NumPy program to create an array of integers from 50 to 95."
   ]
  },
  {
   "cell_type": "code",
   "execution_count": 22,
   "id": "cfb5f32a-4e27-460c-aeb6-076f941b9b9a",
   "metadata": {},
   "outputs": [
    {
     "name": "stdout",
     "output_type": "stream",
     "text": [
      "[50 51 52 53 54 55 56 57 58 59 60 61 62 63 64 65 66 67 68 69 70 71 72 73\n",
      " 74 75 76 77 78 79 80 81 82 83 84 85 86 87 88 89 90 91 92 93 94 95]\n"
     ]
    }
   ],
   "source": [
    "arr7=np.arange(50,96)\n",
    "print(arr7)"
   ]
  },
  {
   "cell_type": "code",
   "execution_count": 23,
   "id": "2d920c7a-1675-4588-8b02-dd72e4d62e2d",
   "metadata": {},
   "outputs": [],
   "source": [
    "#6. Write a NumPy program to create an array of all even integers from 20 to 80."
   ]
  },
  {
   "cell_type": "code",
   "execution_count": 24,
   "id": "7e525caf-b43f-41e9-85ef-4c41547b51cd",
   "metadata": {},
   "outputs": [
    {
     "name": "stdout",
     "output_type": "stream",
     "text": [
      "[20 22 24 26 28 30 32 34 36 38 40 42 44 46 48 50 52 54 56 58 60 62 64 66\n",
      " 68 70 72 74 76 78]\n"
     ]
    }
   ],
   "source": [
    "arr8=np.arange(20,80,2)\n",
    "print(arr8)"
   ]
  },
  {
   "cell_type": "code",
   "execution_count": 25,
   "id": "4e21aa5b-19db-4ca0-bb24-77f0ac82877e",
   "metadata": {},
   "outputs": [],
   "source": [
    "#7. Write a NumPy program to create an array of all odd integers from 20 to 80.\n"
   ]
  },
  {
   "cell_type": "code",
   "execution_count": 26,
   "id": "42bdb4e2-f390-4427-ad68-c84aaf4a32be",
   "metadata": {},
   "outputs": [
    {
     "name": "stdout",
     "output_type": "stream",
     "text": [
      "[21 23 25 27 29 31 33 35 37 39 41 43 45 47 49 51 53 55 57 59 61 63 65 67\n",
      " 69 71 73 75 77 79]\n"
     ]
    }
   ],
   "source": [
    "arr8=np.arange(21,80,2)\n",
    "print(arr8)"
   ]
  },
  {
   "cell_type": "code",
   "execution_count": 27,
   "id": "b3357148-7310-4f2e-861d-7790de93f47e",
   "metadata": {},
   "outputs": [],
   "source": [
    "#8. Write a NumPy program to generate an array of 15 random numbers from 10    to 40."
   ]
  },
  {
   "cell_type": "code",
   "execution_count": 28,
   "id": "7c25bdfc-853f-4a34-a739-7484ba6282c6",
   "metadata": {},
   "outputs": [
    {
     "name": "stdout",
     "output_type": "stream",
     "text": [
      "[36 11 33 38 23 30 35 21 10 24 12 29 22 36 32]\n"
     ]
    }
   ],
   "source": [
    "arr9=np.random.randint(10,40,15)\n",
    "print(arr9)"
   ]
  },
  {
   "cell_type": "code",
   "execution_count": 29,
   "id": "b0c5a07f-06ee-4710-a324-a1d6f4e8faf4",
   "metadata": {},
   "outputs": [],
   "source": [
    "#9. Write a NumPy program to generate an array of 10 random numbers from 30 to 50.\n"
   ]
  },
  {
   "cell_type": "code",
   "execution_count": 30,
   "id": "57121800-b078-4679-bd99-908c26a9ca6f",
   "metadata": {},
   "outputs": [
    {
     "name": "stdout",
     "output_type": "stream",
     "text": [
      "[ 55  37 296 333 154 178 302 283 192 234]\n"
     ]
    }
   ],
   "source": [
    "arr9=np.random.randint(30,500,10)\n",
    "print(arr9)"
   ]
  },
  {
   "cell_type": "code",
   "execution_count": 31,
   "id": "9c7169f6-81b5-4615-87b6-fba678b446e6",
   "metadata": {},
   "outputs": [],
   "source": [
    "#10Write a NumPy program to generate an array of 20 random numbers from 50 to 90.\n"
   ]
  },
  {
   "cell_type": "code",
   "execution_count": 32,
   "id": "df162ec7-0bd9-40ba-9205-1fe0ab0e0dc9",
   "metadata": {},
   "outputs": [
    {
     "name": "stdout",
     "output_type": "stream",
     "text": [
      "[60 73 78 88 51 55 85 53 67 59 54 58 73 82 70 68 89 55 84 78]\n"
     ]
    }
   ],
   "source": [
    "arr9=np.random.randint(50,90,20)\n",
    "print(arr9)"
   ]
  },
  {
   "cell_type": "code",
   "execution_count": 33,
   "id": "d22ccb08-08e3-4e3b-927a-4d34cb6ec134",
   "metadata": {},
   "outputs": [],
   "source": [
    "#11. Create any two arrays & perform various mathematical operations.\n",
    "   # i.e. Addition, Substraction, Multiplication, Divide.\n"
   ]
  },
  {
   "cell_type": "code",
   "execution_count": 36,
   "id": "ecb777ee-0ad4-4b1b-902d-7a9ca7c71d07",
   "metadata": {},
   "outputs": [
    {
     "name": "stdout",
     "output_type": "stream",
     "text": [
      "[21 42 63]\n",
      "[-1 -2 -3]\n",
      "[110 440 990]\n",
      "[0.90909091 0.90909091 0.90909091]\n"
     ]
    }
   ],
   "source": [
    "n1=np.array([10,20,30])\n",
    "n2=np.array([11,22,33])\n",
    "print(n1 + n2)\n",
    "print(n1 - n2)\n",
    "print(n1 * n2)\n",
    "print(n1 / n2)"
   ]
  },
  {
   "cell_type": "code",
   "execution_count": 37,
   "id": "eac813c8-a484-4ee3-950a-839f7aaf1354",
   "metadata": {},
   "outputs": [],
   "source": [
    "#12. Write a NumPy program to create a 3x4 matrix filled with values from 10 to 21.\n"
   ]
  },
  {
   "cell_type": "code",
   "execution_count": 38,
   "id": "182034e6-f2d6-4095-8c25-d1f047649ff8",
   "metadata": {},
   "outputs": [],
   "source": [
    "m = np.arange(10, 22).reshape((3, 4))"
   ]
  },
  {
   "cell_type": "code",
   "execution_count": 39,
   "id": "633972e0-3855-4544-aa2f-f0701e3b1240",
   "metadata": {},
   "outputs": [
    {
     "name": "stdout",
     "output_type": "stream",
     "text": [
      "[[10 11 12 13]\n",
      " [14 15 16 17]\n",
      " [18 19 20 21]]\n"
     ]
    }
   ],
   "source": [
    "print(m)"
   ]
  },
  {
   "cell_type": "code",
   "execution_count": 43,
   "id": "809d0b45-7868-489b-bdd6-3106c091de9a",
   "metadata": {},
   "outputs": [],
   "source": [
    "#13.Write a NumPy program to create a 3x3 identity matrix, i.e. the diagonal     elements are 1, the rest are 0.\n"
   ]
  },
  {
   "cell_type": "code",
   "execution_count": 44,
   "id": "e8369261-b768-4f1d-b058-53b6efbc6c18",
   "metadata": {},
   "outputs": [],
   "source": [
    "x = np.eye(3)"
   ]
  },
  {
   "cell_type": "code",
   "execution_count": 45,
   "id": "ddd0cb73-cc5f-40dd-bef3-f9e7f2d3e52e",
   "metadata": {},
   "outputs": [
    {
     "name": "stdout",
     "output_type": "stream",
     "text": [
      "[[1. 0. 0.]\n",
      " [0. 1. 0.]\n",
      " [0. 0. 1.]]\n"
     ]
    }
   ],
   "source": [
    "print(x)"
   ]
  },
  {
   "cell_type": "code",
   "execution_count": 46,
   "id": "92a2625b-2039-47fc-b0be-f5c982ccc5a1",
   "metadata": {},
   "outputs": [],
   "source": [
    "#14. Write a NumPy program to find the number of rows and columns in a given matrix."
   ]
  },
  {
   "cell_type": "code",
   "execution_count": 47,
   "id": "b5089fcb-30b7-4e58-a2c4-ad94c2efcb1d",
   "metadata": {},
   "outputs": [],
   "source": [
    "m = np.arange(10, 22).reshape((3, 4))"
   ]
  },
  {
   "cell_type": "code",
   "execution_count": 49,
   "id": "f107b8a9-89b3-4357-87cb-9bd54bee79d3",
   "metadata": {},
   "outputs": [
    {
     "name": "stdout",
     "output_type": "stream",
     "text": [
      "Original matrix:\n",
      "[[10 11 12 13]\n",
      " [14 15 16 17]\n",
      " [18 19 20 21]]\n",
      "Number of rows and columns of the said matrix:\n",
      "(3, 4)\n"
     ]
    }
   ],
   "source": [
    "print(\"Original matrix:\")\n",
    "print(m)\n",
    "print(\"Number of rows and columns of the said matrix:\")\n",
    "print(m.shape) "
   ]
  },
  {
   "cell_type": "code",
   "execution_count": 50,
   "id": "1be0cee8-6aa9-4947-93aa-a253839cd273",
   "metadata": {},
   "outputs": [],
   "source": [
    "#.15 Write a NumPy program to create a 5x5 zero matrix with elements on the     main diagonal equal to 1, 2, 3, 4, 5."
   ]
  },
  {
   "cell_type": "code",
   "execution_count": 53,
   "id": "ed8a9608-fddd-4793-8b75-e0671b6c39cf",
   "metadata": {},
   "outputs": [
    {
     "name": "stdout",
     "output_type": "stream",
     "text": [
      "[[1 0 0 0 0]\n",
      " [0 2 0 0 0]\n",
      " [0 0 3 0 0]\n",
      " [0 0 0 4 0]\n",
      " [0 0 0 0 5]]\n"
     ]
    }
   ],
   "source": [
    "x = np.diag([1, 2, 3, 4, 5])\n",
    "print(x)"
   ]
  },
  {
   "cell_type": "code",
   "execution_count": 55,
   "id": "f7900ff7-444f-49ac-b38b-24375f0131bb",
   "metadata": {},
   "outputs": [],
   "source": [
    "#16.  Write a NumPy program to create a 3x3x3 array filled with arbitrary     values.\n"
   ]
  },
  {
   "cell_type": "code",
   "execution_count": 56,
   "id": "3a76f2a3-b0b1-4895-be25-b23b1e6562bc",
   "metadata": {},
   "outputs": [
    {
     "name": "stdout",
     "output_type": "stream",
     "text": [
      "[[[0.07910105 0.27970211 0.13740325]\n",
      "  [0.14891952 0.63905487 0.65740211]\n",
      "  [0.53295639 0.2691124  0.55740756]]\n",
      "\n",
      " [[0.00675299 0.73111342 0.61006135]\n",
      "  [0.24313587 0.7657185  0.12860787]\n",
      "  [0.72135811 0.43486447 0.31770599]]\n",
      "\n",
      " [[0.28732163 0.5046272  0.58759303]\n",
      "  [0.97253054 0.05639586 0.14216951]\n",
      "  [0.61397422 0.04900344 0.90012746]]]\n"
     ]
    }
   ],
   "source": [
    "x = np.random.random((3, 3, 3))\n",
    "print(x)"
   ]
  },
  {
   "cell_type": "code",
   "execution_count": 57,
   "id": "97d231e7-afda-4a80-bfe8-95f0da477603",
   "metadata": {},
   "outputs": [],
   "source": [
    "#17. Write a NumPy program to create a 2x3x4 array filled with arbitrary     values."
   ]
  },
  {
   "cell_type": "code",
   "execution_count": 59,
   "id": "c793aab7-ce8d-47c7-88db-cbdf158d6162",
   "metadata": {},
   "outputs": [
    {
     "name": "stdout",
     "output_type": "stream",
     "text": [
      "[[[0.0981496  0.78117692 0.44942369 0.06152976]\n",
      "  [0.53083221 0.1625717  0.95310922 0.16485275]\n",
      "  [0.29126961 0.33430549 0.52035657 0.35383047]]\n",
      "\n",
      " [[0.35480226 0.62039392 0.01384213 0.44120741]\n",
      "  [0.04199366 0.16237062 0.51055944 0.51903252]\n",
      "  [0.64366483 0.76155413 0.32347832 0.15938445]]]\n"
     ]
    }
   ],
   "source": [
    "x = np.random.random((2, 3, 4))\n",
    "print(x)"
   ]
  },
  {
   "cell_type": "code",
   "execution_count": 60,
   "id": "273b05c3-4617-4095-82b7-856b9689662b",
   "metadata": {},
   "outputs": [],
   "source": [
    "# 18.Write a NumPy program to convert a list of numeric values into a one-    dimensional NumPy array."
   ]
  },
  {
   "cell_type": "code",
   "execution_count": 61,
   "id": "0d136562-d7eb-4ab2-aa85-bc00a9800e45",
   "metadata": {},
   "outputs": [
    {
     "name": "stdout",
     "output_type": "stream",
     "text": [
      "Original List: [12, 13, 100, 36]\n",
      "One-dimensional NumPy array:  [ 12  13 100  36]\n"
     ]
    }
   ],
   "source": [
    "\n",
    "l = [12, 13, 100, 36]\n",
    "\n",
    "print(\"Original List:\", l)\n",
    "a = np.array(l)\n",
    "print(\"One-dimensional NumPy array: \", a)"
   ]
  },
  {
   "cell_type": "code",
   "execution_count": 62,
   "id": "e0e3baa7-bb52-4cfd-b175-c20c60f4d018",
   "metadata": {},
   "outputs": [],
   "source": [
    "#19. Write a NumPy program to create a 3x3 matrix with values ranging from 2     to 10.\n"
   ]
  },
  {
   "cell_type": "code",
   "execution_count": 63,
   "id": "7642613c-1ee3-4472-b020-a0542c0c062d",
   "metadata": {},
   "outputs": [
    {
     "name": "stdout",
     "output_type": "stream",
     "text": [
      "[[ 2  3  4]\n",
      " [ 5  6  7]\n",
      " [ 8  9 10]]\n"
     ]
    }
   ],
   "source": [
    "x = np.arange(2, 11).reshape(3, 3)\n",
    "\n",
    "print(x)"
   ]
  },
  {
   "cell_type": "code",
   "execution_count": 64,
   "id": "64f6b4da-66b8-4efa-bc60-b063f935524f",
   "metadata": {},
   "outputs": [],
   "source": [
    "#20. Write a NumPy program to create an array with values ranging from 12 to 38.\n"
   ]
  },
  {
   "cell_type": "code",
   "execution_count": 65,
   "id": "b900cb3d-9e61-4758-8871-86bed78afb76",
   "metadata": {},
   "outputs": [
    {
     "name": "stdout",
     "output_type": "stream",
     "text": [
      "[12 13 14 15 16 17 18 19 20 21 22 23 24 25 26 27 28 29 30 31 32 33 34 35\n",
      " 36 37 38]\n"
     ]
    }
   ],
   "source": [
    "x = np.arange(12, 39)\n",
    "print(x)\n"
   ]
  },
  {
   "cell_type": "code",
   "execution_count": 66,
   "id": "0a70da22-037f-4ab2-acc5-184e468722e2",
   "metadata": {},
   "outputs": [],
   "source": [
    "#21.Write a NumPy program to reverse an array (the first element becomes the last).\n"
   ]
  },
  {
   "cell_type": "code",
   "execution_count": 70,
   "id": "e82cebb5-8121-4e02-b63b-97e1be641ae0",
   "metadata": {},
   "outputs": [
    {
     "name": "stdout",
     "output_type": "stream",
     "text": [
      "[12 13 14 15 16 17 18 19 20 21 22 23 24 25 26 27 28 29 30 31 32 33 34 35\n",
      " 36 37]\n",
      "Reverse array:\n",
      "[37 36 35 34 33 32 31 30 29 28 27 26 25 24 23 22 21 20 19 18 17 16 15 14\n",
      " 13 12]\n"
     ]
    }
   ],
   "source": [
    "x = np.arange(12, 38)\n",
    "print(x)\n",
    "\n",
    "print(\"Reverse array:\")\n",
    "x = x[::-1]\n",
    "print(x) "
   ]
  },
  {
   "cell_type": "code",
   "execution_count": 71,
   "id": "e3c145a7-dc93-4fd2-a15e-cf06c009a90e",
   "metadata": {},
   "outputs": [],
   "source": [
    "#22. Write a NumPy program to convert an data type into to a floating type.\n"
   ]
  },
  {
   "cell_type": "code",
   "execution_count": 72,
   "id": "0d05c7a1-4af0-47ce-a8a8-dd0bf7391d44",
   "metadata": {},
   "outputs": [
    {
     "name": "stdout",
     "output_type": "stream",
     "text": [
      "Original array\n",
      "[1, 2, 3, 4]\n",
      "Array converted to a float type:\n",
      "[1. 2. 3. 4.]\n"
     ]
    }
   ],
   "source": [
    "\n",
    "a = [1, 2, 3, 4]\n",
    "print(\"Original array\")\n",
    "print(a)\n",
    "\n",
    "x = np.asfarray(a)\n",
    "print(\"Array converted to a float type:\")\n",
    "print(x) "
   ]
  },
  {
   "cell_type": "code",
   "execution_count": 73,
   "id": "ddc0c92e-1c34-450e-9e52-38cc29b43509",
   "metadata": {},
   "outputs": [],
   "source": [
    "#23. Write a NumPy program to convert a list arra"
   ]
  },
  {
   "cell_type": "code",
   "execution_count": 76,
   "id": "30b72823-dad3-46b0-b777-546860c02a9d",
   "metadata": {},
   "outputs": [
    {
     "name": "stdout",
     "output_type": "stream",
     "text": [
      "List:  [1, 2, 3, 4, 5, 6, 7, 8, 9]\n",
      "Array:  [1 2 3 4 5 6 7 8 9]\n"
     ]
    }
   ],
   "source": [
    "a = [1, 2, 3, 4, 5, 6, 7, 8, 9]  \n",
    "  \n",
    "arr = np.array(a)    \n",
    "print (\"List: \", a)   \n",
    "print (\"Array: \", arr)  "
   ]
  },
  {
   "cell_type": "code",
   "execution_count": 77,
   "id": "f2f52300-c549-4638-bd9a-3a414a6b0f7f",
   "metadata": {},
   "outputs": [],
   "source": [
    "#24 Write a NumPy program to get the element-wise remainder of an array of division.\n"
   ]
  },
  {
   "cell_type": "code",
   "execution_count": 78,
   "id": "ec3a8fa4-bfa2-4fa7-af7c-b7421fb467a8",
   "metadata": {},
   "outputs": [
    {
     "name": "stdout",
     "output_type": "stream",
     "text": [
      "Original array:\n",
      "[0 1 2 3 4 5 6]\n",
      "Element-wise remainder of division:\n",
      "[0 1 2 3 4 0 1]\n"
     ]
    }
   ],
   "source": [
    "\n",
    "x = np.arange(7)\n",
    "print(\"Original array:\")\n",
    "print(x)\n",
    "\n",
    "print(\"Element-wise remainder of division:\")\n",
    "print(np.remainder(x, 5)) "
   ]
  },
  {
   "cell_type": "code",
   "execution_count": 79,
   "id": "88710c6e-271f-496b-a123-a423a8bfe2d0",
   "metadata": {},
   "outputs": [],
   "source": [
    "#25. Write a NumPy program to get the element-wise remainder of an array of numbers from 20 to 50 which are divisible by 3."
   ]
  },
  {
   "cell_type": "code",
   "execution_count": 81,
   "id": "b65cdf7d-5acc-43f8-af8b-a02081dd0f1b",
   "metadata": {},
   "outputs": [
    {
     "name": "stdout",
     "output_type": "stream",
     "text": [
      "Original array:\n",
      "[20 21 22 23 24 25 26 27 28 29 30 31 32 33 34 35 36 37 38 39 40 41 42 43\n",
      " 44 45 46 47 48 49 50]\n",
      "Element-wise remainder of division:\n",
      "[2 0 1 2 0 1 2 0 1 2 0 1 2 0 1 2 0 1 2 0 1 2 0 1 2 0 1 2 0 1 2]\n"
     ]
    }
   ],
   "source": [
    "x = np.arange(20,51)\n",
    "print(\"Original array:\")\n",
    "print(x)\n",
    "\n",
    "print(\"Element-wise remainder of division:\")\n",
    "print(np.remainder(x, 3)) "
   ]
  },
  {
   "cell_type": "code",
   "execution_count": null,
   "id": "d8ae2da6-f8dc-46f7-aff0-3da07a0b77f2",
   "metadata": {},
   "outputs": [],
   "source": []
  }
 ],
 "metadata": {
  "kernelspec": {
   "display_name": "Python 3 (ipykernel)",
   "language": "python",
   "name": "python3"
  },
  "language_info": {
   "codemirror_mode": {
    "name": "ipython",
    "version": 3
   },
   "file_extension": ".py",
   "mimetype": "text/x-python",
   "name": "python",
   "nbconvert_exporter": "python",
   "pygments_lexer": "ipython3",
   "version": "3.10.12"
  }
 },
 "nbformat": 4,
 "nbformat_minor": 5
}
