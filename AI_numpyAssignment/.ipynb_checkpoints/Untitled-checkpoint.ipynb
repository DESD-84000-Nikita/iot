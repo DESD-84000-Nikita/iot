{
 "cells": [
  {
   "cell_type": "code",
   "execution_count": 1,
   "id": "39a83f22-013a-4999-84dd-897f6b699c35",
   "metadata": {},
   "outputs": [],
   "source": [
    "#1. Write a NumPy program to create an array with the values 1, 7, 13, 105 and \n",
    "#determine the size of the memory occupied by the array.\n"
   ]
  },
  {
   "cell_type": "code",
   "execution_count": 2,
   "id": "2498bec1-0d97-4f23-b6cf-4a80405ed77c",
   "metadata": {},
   "outputs": [],
   "source": [
    "import numpy as np"
   ]
  },
  {
   "cell_type": "code",
   "execution_count": 7,
   "id": "0ac20a65-2930-4f20-9463-1465a01f52c8",
   "metadata": {},
   "outputs": [],
   "source": [
    "def function1():\n",
    "    n_arr=np.array([1,7,13,105])\n",
    "    print(n_arr)\n",
    "    print(f\"NBYTES={n_arr.nbytes}\")"
   ]
  },
  {
   "cell_type": "code",
   "execution_count": 8,
   "id": "43142d9a-0297-463d-a68d-3bd79a2d2def",
   "metadata": {},
   "outputs": [
    {
     "name": "stdout",
     "output_type": "stream",
     "text": [
      "[  1   7  13 105]\n",
      "NBYTES=32\n"
     ]
    }
   ],
   "source": [
    "function1()"
   ]
  },
  {
   "cell_type": "code",
   "execution_count": 25,
   "id": "f7f6a1f5-d743-4cfc-97e7-e1116537ab34",
   "metadata": {},
   "outputs": [],
   "source": [
    "# 2.Write a NumPy program to create an element-wise comparison (greater,    greater_equal, less and less_equal) of two given arrays.\n"
   ]
  },
  {
   "cell_type": "code",
   "execution_count": 10,
   "id": "5f77912f-7c41-488b-a496-8d6f2701ab90",
   "metadata": {},
   "outputs": [],
   "source": [
    "x = np.array([3, 5])\n",
    "y = np.array([2, 5])"
   ]
  },
  {
   "cell_type": "code",
   "execution_count": 14,
   "id": "98c85328-02cf-42e2-9536-a9ae262c33d7",
   "metadata": {},
   "outputs": [
    {
     "name": "stdout",
     "output_type": "stream",
     "text": [
      "Comparison - greater\n",
      "[ True False]\n",
      "Comparison - greater_equal\n",
      "[ True  True]\n",
      "Comparison - less\n",
      "[False False]\n",
      "Comparison - less_equal\n",
      "[False  True]\n"
     ]
    }
   ],
   "source": [
    "print(\"Comparison - greater\")\n",
    "print(np.greater(x,y))\n",
    "\n",
    "print(\"Comparison - greater_equal\")\n",
    "print(np.greater_equal(x, y))\n",
    "\n",
    "print(\"Comparison - less\")\n",
    "print(np.less(x, y))\n",
    "\n",
    "print(\"Comparison - less_equal\")\n",
    "print(np.less_equal(x, y)) "
   ]
  },
  {
   "cell_type": "code",
   "execution_count": 26,
   "id": "6f2bb725-e5d6-4485-b57f-4e37f0dd0d8d",
   "metadata": {},
   "outputs": [],
   "source": [
    "#3. Write a NumPy program to create an array of 10 zeros, 10 ones, 10    fives, 10 tens, 10 twentys and 10 fiftys."
   ]
  },
  {
   "cell_type": "code",
   "execution_count": 16,
   "id": "1f802aef-3488-462d-a99c-ca8f917d0c3f",
   "metadata": {},
   "outputs": [
    {
     "name": "stdout",
     "output_type": "stream",
     "text": [
      "[0. 0. 0. 0. 0. 0. 0. 0. 0. 0.]\n"
     ]
    }
   ],
   "source": [
    "arr1=np.zeros(10)\n",
    "print(arr1)"
   ]
  },
  {
   "cell_type": "code",
   "execution_count": 18,
   "id": "c20c31b3-adfd-4580-b3a9-a7ddc6b4a16b",
   "metadata": {},
   "outputs": [
    {
     "name": "stdout",
     "output_type": "stream",
     "text": [
      "[1. 1. 1. 1. 1. 1. 1. 1. 1. 1.]\n"
     ]
    }
   ],
   "source": [
    "arr2=np.ones(10)\n",
    "print(arr2)"
   ]
  },
  {
   "cell_type": "code",
   "execution_count": 21,
   "id": "c5d6c124-f1ac-4863-9d20-52ec22aa8a0b",
   "metadata": {},
   "outputs": [
    {
     "name": "stdout",
     "output_type": "stream",
     "text": [
      "[5. 5. 5. 5. 5. 5. 5. 5. 5. 5.]\n"
     ]
    }
   ],
   "source": [
    "arr3=np.ones(10)*5\n",
    "print(arr3)"
   ]
  },
  {
   "cell_type": "code",
   "execution_count": 22,
   "id": "284520cd-92f2-4d30-9fcf-78c38e375530",
   "metadata": {},
   "outputs": [
    {
     "name": "stdout",
     "output_type": "stream",
     "text": [
      "[10. 10. 10. 10. 10. 10. 10. 10. 10. 10.]\n"
     ]
    }
   ],
   "source": [
    "arr4=np.ones(10)*10\n",
    "print(arr4)"
   ]
  },
  {
   "cell_type": "code",
   "execution_count": 23,
   "id": "8dbcbed1-06ee-47bb-84f5-affaf12fecaf",
   "metadata": {},
   "outputs": [
    {
     "name": "stdout",
     "output_type": "stream",
     "text": [
      "[20. 20. 20. 20. 20. 20. 20. 20. 20. 20.]\n"
     ]
    }
   ],
   "source": [
    "arr5=np.ones(10)*20\n",
    "print(arr5)"
   ]
  },
  {
   "cell_type": "code",
   "execution_count": 24,
   "id": "f4073d05-e7f4-4439-80e7-b8c0d4dad11c",
   "metadata": {},
   "outputs": [
    {
     "name": "stdout",
     "output_type": "stream",
     "text": [
      "[50. 50. 50. 50. 50. 50. 50. 50. 50. 50.]\n"
     ]
    }
   ],
   "source": [
    "arr6=np.ones(10)*50\n",
    "print(arr6)"
   ]
  },
  {
   "cell_type": "code",
   "execution_count": 28,
   "id": "5cfca3fe-57bf-4ac3-af30-edac101c2717",
   "metadata": {},
   "outputs": [],
   "source": [
    "#4.Write a NumPy program to create an array of integers from 30 to 70.\n"
   ]
  },
  {
   "cell_type": "code",
   "execution_count": 33,
   "id": "1f2e22a8-763e-498f-a0f4-5730f2d87c63",
   "metadata": {},
   "outputs": [
    {
     "name": "stdout",
     "output_type": "stream",
     "text": [
      "[30 31 32 33 34 35 36 37 38 39 40 41 42 43 44 45 46 47 48 49 50 51 52 53\n",
      " 54 55 56 57 58 59 60 61 62 63 64 65 66 67 68 69 70]\n"
     ]
    }
   ],
   "source": [
    "arr7=np.arange(30,71)\n",
    "print(arr7)"
   ]
  },
  {
   "cell_type": "code",
   "execution_count": 30,
   "id": "9c277db5-cbac-4106-aab8-f5934df7d75d",
   "metadata": {},
   "outputs": [],
   "source": [
    "#5. Write a NumPy program to create an array of integers from 50 to 95."
   ]
  },
  {
   "cell_type": "code",
   "execution_count": 32,
   "id": "cfb5f32a-4e27-460c-aeb6-076f941b9b9a",
   "metadata": {},
   "outputs": [
    {
     "name": "stdout",
     "output_type": "stream",
     "text": [
      "[50 51 52 53 54 55 56 57 58 59 60 61 62 63 64 65 66 67 68 69 70 71 72 73\n",
      " 74 75 76 77 78 79 80 81 82 83 84 85 86 87 88 89 90 91 92 93 94 95]\n"
     ]
    }
   ],
   "source": [
    "arr7=np.arange(50,96)\n",
    "print(arr7)"
   ]
  },
  {
   "cell_type": "code",
   "execution_count": 34,
   "id": "2d920c7a-1675-4588-8b02-dd72e4d62e2d",
   "metadata": {},
   "outputs": [],
   "source": [
    "#6. Write a NumPy program to create an array of all even integers from 20 to 80."
   ]
  },
  {
   "cell_type": "code",
   "execution_count": 35,
   "id": "7e525caf-b43f-41e9-85ef-4c41547b51cd",
   "metadata": {},
   "outputs": [
    {
     "name": "stdout",
     "output_type": "stream",
     "text": [
      "[20 22 24 26 28 30 32 34 36 38 40 42 44 46 48 50 52 54 56 58 60 62 64 66\n",
      " 68 70 72 74 76 78]\n"
     ]
    }
   ],
   "source": [
    "arr8=np.arange(20,80,2)\n",
    "print(arr8)"
   ]
  },
  {
   "cell_type": "code",
   "execution_count": 36,
   "id": "4e21aa5b-19db-4ca0-bb24-77f0ac82877e",
   "metadata": {},
   "outputs": [],
   "source": [
    "#7. Write a NumPy program to create an array of all odd integers from 20 to 80.\n"
   ]
  },
  {
   "cell_type": "code",
   "execution_count": 39,
   "id": "42bdb4e2-f390-4427-ad68-c84aaf4a32be",
   "metadata": {},
   "outputs": [
    {
     "name": "stdout",
     "output_type": "stream",
     "text": [
      "[21 23 25 27 29 31 33 35 37 39 41 43 45 47 49 51 53 55 57 59 61 63 65 67\n",
      " 69 71 73 75 77 79]\n"
     ]
    }
   ],
   "source": [
    "arr8=np.arange(21,80,2)\n",
    "print(arr8)"
   ]
  },
  {
   "cell_type": "code",
   "execution_count": 40,
   "id": "b3357148-7310-4f2e-861d-7790de93f47e",
   "metadata": {},
   "outputs": [],
   "source": [
    "#8. Write a NumPy program to generate an array of 15 random numbers from 10    to 40."
   ]
  },
  {
   "cell_type": "code",
   "execution_count": 42,
   "id": "7c25bdfc-853f-4a34-a739-7484ba6282c6",
   "metadata": {},
   "outputs": [
    {
     "name": "stdout",
     "output_type": "stream",
     "text": [
      "[21 21 35 26 23 37 20 22 38 14 32 21 15 33 26]\n"
     ]
    }
   ],
   "source": [
    "arr9=np.random.randint(10,40,15)\n",
    "print(arr9)"
   ]
  },
  {
   "cell_type": "code",
   "execution_count": 51,
   "id": "b0c5a07f-06ee-4710-a324-a1d6f4e8faf4",
   "metadata": {},
   "outputs": [],
   "source": [
    "#9. Write a NumPy program to generate an array of 10 random numbers from 30 to 50.\n"
   ]
  },
  {
   "cell_type": "code",
   "execution_count": 47,
   "id": "57121800-b078-4679-bd99-908c26a9ca6f",
   "metadata": {},
   "outputs": [
    {
     "name": "stdout",
     "output_type": "stream",
     "text": [
      "[ 75  75 474 451 400 464 489  82 446 183]\n"
     ]
    }
   ],
   "source": [
    "arr9=np.random.randint(30,500,10)\n",
    "print(arr9)"
   ]
  },
  {
   "cell_type": "code",
   "execution_count": 50,
   "id": "9c7169f6-81b5-4615-87b6-fba678b446e6",
   "metadata": {},
   "outputs": [],
   "source": [
    "#10Write a NumPy program to generate an array of 20 random numbers from 50 to 90.\n"
   ]
  },
  {
   "cell_type": "code",
   "execution_count": 49,
   "id": "df162ec7-0bd9-40ba-9205-1fe0ab0e0dc9",
   "metadata": {},
   "outputs": [
    {
     "name": "stdout",
     "output_type": "stream",
     "text": [
      "[84 70 80 89 61 81 68 88 81 79 77 80 58 89 64 82 77 63 55 83]\n"
     ]
    }
   ],
   "source": [
    "arr9=np.random.randint(50,90,20)\n",
    "print(arr9)"
   ]
  },
  {
   "cell_type": "code",
   "execution_count": 52,
   "id": "d22ccb08-08e3-4e3b-927a-4d34cb6ec134",
   "metadata": {},
   "outputs": [],
   "source": [
    "#11. Create any two arrays & perform various mathematical operations.\n",
    "   # i.e. Addition, Substraction, Multiplication, Divide.\n"
   ]
  },
  {
   "cell_type": "code",
   "execution_count": 55,
   "id": "ecb777ee-0ad4-4b1b-902d-7a9ca7c71d07",
   "metadata": {},
   "outputs": [
    {
     "name": "stdout",
     "output_type": "stream",
     "text": [
      "[21 42 63]\n",
      "[-1 -2 -3]\n",
      "[110 440 990]\n",
      "[0.90909091 0.90909091 0.90909091]\n"
     ]
    }
   ],
   "source": [
    "n1=np.array([10,20,30])\n",
    "n2=np.array([11,22,33])\n",
    "print(n1 + n2)\n",
    "print(n1 - n2)\n",
    "print(n1 * n2)\n",
    "print(n1 / n2)"
   ]
  },
  {
   "cell_type": "code",
   "execution_count": 56,
   "id": "eac813c8-a484-4ee3-950a-839f7aaf1354",
   "metadata": {},
   "outputs": [],
   "source": [
    "#12. Write a NumPy program to create a 3x4 matrix filled with values from 10 to 21.\n"
   ]
  },
  {
   "cell_type": "code",
   "execution_count": null,
   "id": "0e72dc4d-b6d2-4e06-b5d4-b4f9398a8696",
   "metadata": {},
   "outputs": [],
   "source": []
  }
 ],
 "metadata": {
  "kernelspec": {
   "display_name": "Python 3 (ipykernel)",
   "language": "python",
   "name": "python3"
  },
  "language_info": {
   "codemirror_mode": {
    "name": "ipython",
    "version": 3
   },
   "file_extension": ".py",
   "mimetype": "text/x-python",
   "name": "python",
   "nbconvert_exporter": "python",
   "pygments_lexer": "ipython3",
   "version": "3.10.12"
  }
 },
 "nbformat": 4,
 "nbformat_minor": 5
}
